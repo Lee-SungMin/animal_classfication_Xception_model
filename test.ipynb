{
 "cells": [
  {
   "cell_type": "code",
   "execution_count": null,
   "metadata": {},
   "outputs": [],
   "source": [
    "import requests\n",
    "import base64\n",
    "url = \"http://127.0.0.1:8000/predict/\"\n",
    "with open(r\"./이미지 경로.jpg\", 'rb') as img:\n",
    "    base64_string = base64.b64encode(img.read())\n",
    "r = requests.post(url, data = {'image' : base64_string})\n",
    "r.text"
   ]
  }
 ],
 "metadata": {
  "language_info": {
   "name": "python"
  },
  "orig_nbformat": 4
 },
 "nbformat": 4,
 "nbformat_minor": 2
}
